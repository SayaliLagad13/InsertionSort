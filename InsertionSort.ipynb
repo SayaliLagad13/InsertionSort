{
 "cells": [
  {
   "cell_type": "code",
   "execution_count": 25,
   "id": "21a53b3f",
   "metadata": {},
   "outputs": [
    {
     "ename": "SyntaxError",
     "evalue": "'break' outside loop (3227432712.py, line 51)",
     "output_type": "error",
     "traceback": [
      "\u001b[1;36m  File \u001b[1;32m\"C:\\Users\\shivani computer\\AppData\\Local\\Temp\\ipykernel_2984\\3227432712.py\"\u001b[1;36m, line \u001b[1;32m51\u001b[0m\n\u001b[1;33m    break;\u001b[0m\n\u001b[1;37m    ^\u001b[0m\n\u001b[1;31mSyntaxError\u001b[0m\u001b[1;31m:\u001b[0m 'break' outside loop\n"
     ]
    }
   ],
   "source": [
    "def InsertionSort(arr,n):\n",
    "    i=1\n",
    "    for i in range(n):\n",
    "        temp=arr[i]\n",
    "        j=i-1\n",
    "        while((j>=0)and(a[j]>temp)):\n",
    "            arr[j+1]=a[j]\n",
    "            j=j-1\n",
    "            arr[j+1]=temp\n",
    "            print(arr)\n",
    "            print(\"Top Five Scores of are:\",arr[:-6:-1])\n",
    "            \n",
    "def ShellSort(arr,n):\n",
    "    d=n//2\n",
    "    while d>0:\n",
    "        j=d\n",
    "        while j<n:\n",
    "            i=j-d\n",
    "            while i>=0:\n",
    "                if arr[i+d]>arr[i]:\n",
    "                    break\n",
    "                else:\n",
    "                        arr[i+d],arr[i]=arr[i],arr[i+d]\n",
    "                i=i-d\n",
    "            j=j+1\n",
    "        d=d//2\n",
    "    print(arr)\n",
    "    print(\"Top Five Scores of are \",arr[:-6:-1])\n",
    "                        \n",
    "    n=int(input(\"Enter the no of Students:\"))\n",
    "    arr=[]\n",
    "    i=0\n",
    "    for i in range(n):\n",
    "        item=float(input(\"Enter the %of the Student:\"))\n",
    "        arr.append(item)\n",
    "        print(\"Enetred %of the Student are:\",arr)\n",
    "    while True:\n",
    "            print(\"************Menu*********\")\n",
    "            print(\"1.Insertion  Sort\")\n",
    "            print(\"2.Shell sort\")\n",
    "            print(\"3.Exit\")\n",
    "            ch=int(input(\"Enter your Choice:\"))\n",
    "            \n",
    "    if ch==1:\n",
    "        print(\"Sorted scores after Insertion sort are:\")\n",
    "        InsertionSort(arr,n)\n",
    "    elif ch==2:\n",
    "        print(\"Sorted Scores after Shell Sort are:\")\n",
    "        ShellSort(arr,n)\n",
    "    elif ch==3:\n",
    "        break;\n",
    "        \n",
    "                 \n",
    "                \n",
    "                \n",
    "                          \n",
    "               \n",
    "            "
   ]
  },
  {
   "cell_type": "code",
   "execution_count": null,
   "id": "8a8e6a86",
   "metadata": {},
   "outputs": [],
   "source": []
  },
  {
   "cell_type": "code",
   "execution_count": null,
   "id": "fd516aa8",
   "metadata": {},
   "outputs": [],
   "source": []
  }
 ],
 "metadata": {
  "kernelspec": {
   "display_name": "Python 3 (ipykernel)",
   "language": "python",
   "name": "python3"
  },
  "language_info": {
   "codemirror_mode": {
    "name": "ipython",
    "version": 3
   },
   "file_extension": ".py",
   "mimetype": "text/x-python",
   "name": "python",
   "nbconvert_exporter": "python",
   "pygments_lexer": "ipython3",
   "version": "3.9.13"
  }
 },
 "nbformat": 4,
 "nbformat_minor": 5
}
